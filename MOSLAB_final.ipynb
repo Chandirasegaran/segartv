{
  "nbformat": 4,
  "nbformat_minor": 0,
  "metadata": {
    "colab": {
      "provenance": [],
      "authorship_tag": "ABX9TyMm8xB8MvJnupm61xuVH7m8",
      "include_colab_link": true
    },
    "kernelspec": {
      "name": "python3",
      "display_name": "Python 3"
    },
    "language_info": {
      "name": "python"
    }
  },
  "cells": [
    {
      "cell_type": "markdown",
      "metadata": {
        "id": "view-in-github",
        "colab_type": "text"
      },
      "source": [
        "<a href=\"https://colab.research.google.com/github/Chandirasegaran/segartv/blob/main/MOSLAB_final.ipynb\" target=\"_parent\"><img src=\"https://colab.research.google.com/assets/colab-badge.svg\" alt=\"Open In Colab\"/></a>"
      ]
    },
    {
      "cell_type": "markdown",
      "source": [
        "# 1 Write a program to simulate the following non-pre-emptive CPU scheduling algorithms to find turnaround time and waiting time.\n",
        "(a) FCFS (b) SJF (c) Round Robin (pre-emptive) (d) Priority."
      ],
      "metadata": {
        "id": "7PKsfhFkOzUJ"
      }
    },
    {
      "cell_type": "code",
      "execution_count": 1,
      "metadata": {
        "colab": {
          "base_uri": "https://localhost:8080/",
          "height": 0
        },
        "id": "zfvoKcuzDe37",
        "outputId": "9b6ef4bf-22c3-46b0-d991-985315b68356"
      },
      "outputs": [
        {
          "output_type": "stream",
          "name": "stdout",
          "text": [
            "Enter the number of processes: 5\n",
            "Enter burst time for Process 1: 2\n",
            "Enter burst time for Process 2: 5\n",
            "Enter burst time for Process 3: 6\n",
            "Enter burst time for Process 4: 4\n",
            "Enter burst time for Process 5: 1\n",
            "\n",
            "Process\tBurst Time\tWaiting Time\tTurnaround Time\n",
            "P1\t\t2\t\t0\t\t2\n",
            "P2\t\t5\t\t2\t\t7\n",
            "P3\t\t6\t\t7\t\t13\n",
            "P4\t\t4\t\t13\t\t17\n",
            "P5\t\t1\t\t17\t\t18\n",
            "\n",
            "Average Waiting Time: 7.8\n",
            "Average Turnaround Time: 11.4\n"
          ]
        }
      ],
      "source": [
        "def calculate_times(processes, n, burst_times):\n",
        "    waiting_times = [0] * n\n",
        "    turnaround_times = [0] * n\n",
        "\n",
        "    waiting_time = 0\n",
        "    for i in range(n):\n",
        "        turnaround_times[i] = burst_times[i] + waiting_time\n",
        "        waiting_times[i] = waiting_time\n",
        "        waiting_time += burst_times[i]\n",
        "\n",
        "    return waiting_times, turnaround_times\n",
        "\n",
        "def main():\n",
        "    n = int(input(\"Enter the number of processes: \"))\n",
        "    processes = [i+1 for i in range(n)]\n",
        "    burst_times = []\n",
        "\n",
        "    for i in range(n):\n",
        "        burst_time = int(input(f\"Enter burst time for Process {i+1}: \"))\n",
        "        burst_times.append(burst_time)\n",
        "\n",
        "    waiting_times, turnaround_times = calculate_times(processes, n, burst_times)\n",
        "\n",
        "    print(\"\\nProcess\\tBurst Time\\tWaiting Time\\tTurnaround Time\")\n",
        "    for i in range(n):\n",
        "        print(f\"P{i+1}\\t\\t{burst_times[i]}\\t\\t{waiting_times[i]}\\t\\t{turnaround_times[i]}\")\n",
        "\n",
        "    avg_waiting_time = sum(waiting_times) / n\n",
        "    avg_turnaround_time = sum(turnaround_times) / n\n",
        "    print(\"\\nAverage Waiting Time:\", avg_waiting_time)\n",
        "    print(\"Average Turnaround Time:\", avg_turnaround_time)\n",
        "\n",
        "if __name__ == \"__main__\":\n",
        "    main()\n",
        "5"
      ]
    },
    {
      "cell_type": "markdown",
      "source": [
        "Algorithm: First-Come-First-Serve (FCFS) Scheduling\n",
        "1.\tStart with an empty ready queue and a list of processes with their burst times.\n",
        "2.\tSort the list of processes based on their arrival times in ascending order.\n",
        "3.\tInitialize the current time to 0.\n",
        "4.\tFor each process in the sorted list:\n",
        "•\tIf the arrival time of the process is greater than the current time, wait until the process arrives.\n",
        "•\tOnce the process arrives, execute it until its burst time is complete.\n",
        "•\tCalculate the waiting time for the process as the difference between the time it starts executing and its arrival time.\n",
        "•\tCalculate the turnaround time for the process as the sum of its waiting time and burst time.\n",
        "•\tUpdate the current time to the completion time of the current process.\n",
        "5.\tCalculate the average waiting time as the sum of all waiting times divided by the number of processes.\n",
        "6.\tCalculate the average turnaround time as the sum of all turnaround times divided by the number of processes.\n",
        "\n"
      ],
      "metadata": {
        "id": "1GNL80_6Dw0o"
      }
    },
    {
      "cell_type": "code",
      "source": [
        "def calculate_times(processes, n, burst_times):\n",
        "    waiting_times = [0] * n\n",
        "    turnaround_times = [0] * n\n",
        "\n",
        "    # Create a copy of burst_times to avoid modifying the original list\n",
        "    remaining_burst_times = burst_times.copy()\n",
        "\n",
        "    # Sort processes based on burst times\n",
        "    processes.sort(key=lambda x: burst_times[x-1])\n",
        "\n",
        "    # Calculate waiting and turnaround times\n",
        "    for i in range(n):\n",
        "        if i == 0:\n",
        "            waiting_times[processes[i] - 1] = 0\n",
        "        else:\n",
        "            waiting_times[processes[i] - 1] = waiting_times[processes[i-1] - 1] + remaining_burst_times[processes[i-1] - 1]\n",
        "\n",
        "        turnaround_times[processes[i] - 1] = waiting_times[processes[i] - 1] + burst_times[processes[i] - 1]\n",
        "        remaining_burst_times[processes[i] - 1] = 0\n",
        "\n",
        "    return waiting_times, turnaround_times\n",
        "\n",
        "def main():\n",
        "    n = int(input(\"Enter the number of processes: \"))\n",
        "    processes = [i+1 for i in range(n)]\n",
        "    burst_times = []\n",
        "\n",
        "    for i in range(n):\n",
        "        burst_time = int(input(f\"Enter burst time for Process {i+1}: \"))\n",
        "        burst_times.append(burst_time)\n",
        "\n",
        "    waiting_times, turnaround_times = calculate_times(processes, n, burst_times)\n",
        "\n",
        "    print(\"\\nProcess\\tBurst Time\\tWaiting Time\\tTurnaround Time\")\n",
        "    for i in range(n):\n",
        "        print(f\"P{processes[i]}\\t\\t{burst_times[processes[i]-1]}\\t\\t{waiting_times[processes[i]-1]}\\t\\t{turnaround_times[processes[i]-1]}\")\n",
        "\n",
        "    avg_waiting_time = sum(waiting_times) / n\n",
        "    avg_turnaround_time = sum(turnaround_times) / n\n",
        "    print(\"\\nAverage Waiting Time:\", avg_waiting_time)\n",
        "    print(\"Average Turnaround Time:\", avg_turnaround_time)\n",
        "\n",
        "if __name__ == \"__main__\":\n",
        "    main()\n"
      ],
      "metadata": {
        "colab": {
          "base_uri": "https://localhost:8080/",
          "height": 0
        },
        "id": "3lOzJrphEBRX",
        "outputId": "a0741a79-89bf-4dbc-f3c7-34e53f02ae4c"
      },
      "execution_count": 2,
      "outputs": [
        {
          "output_type": "stream",
          "name": "stdout",
          "text": [
            "Enter the number of processes: 5\n",
            "Enter burst time for Process 1: 4\n",
            "Enter burst time for Process 2: 5\n",
            "Enter burst time for Process 3: 9\n",
            "Enter burst time for Process 4: 1\n",
            "Enter burst time for Process 5: 2\n",
            "\n",
            "Process\tBurst Time\tWaiting Time\tTurnaround Time\n",
            "P4\t\t1\t\t0\t\t1\n",
            "P5\t\t2\t\t0\t\t2\n",
            "P1\t\t4\t\t0\t\t4\n",
            "P2\t\t5\t\t0\t\t5\n",
            "P3\t\t9\t\t0\t\t9\n",
            "\n",
            "Average Waiting Time: 0.0\n",
            "Average Turnaround Time: 4.2\n"
          ]
        }
      ]
    },
    {
      "cell_type": "markdown",
      "source": [
        "Algorithm: Shortest Job First (SJF) Scheduling\n",
        "1.\tStart with an empty ready queue and a list of processes with their burst times.\n",
        "2.\tSort the list of processes based on their burst times in ascending order.\n",
        "3.\tInitialize the current time to 0.\n",
        "4.\tFor each process in the sorted list:\n",
        "•\tIf the arrival time of the process is greater than the current time, wait until the process arrives.\n",
        "•\tOnce the process arrives, execute the process with the shortest burst time among the remaining processes.\n",
        "•\tCalculate the waiting time for the process as the difference between the time it starts executing and its arrival time.\n",
        "•\tCalculate the turnaround time for the process as the sum of its waiting time and burst time.\n",
        "•\tUpdate the current time to the completion time of the current process.\n",
        "5.\tCalculate the average waiting time as the sum of all waiting times divided by the number of processes.\n",
        "6.\tCalculate the average turnaround time as the sum of all turnaround times divided by the number of processes.\n",
        "\n"
      ],
      "metadata": {
        "id": "zlxTl7BNFSmF"
      }
    },
    {
      "cell_type": "code",
      "source": [
        "def calculate_times(processes, n, burst_times, time_quantum):\n",
        "    remaining_burst_times = burst_times.copy()\n",
        "    waiting_times = [0] * n\n",
        "    turnaround_times = [0] * n\n",
        "    current_time = 0\n",
        "\n",
        "    while any(remaining_burst_time > 0 for remaining_burst_time in remaining_burst_times):\n",
        "        for i in range(n):\n",
        "            if remaining_burst_times[i] > 0:\n",
        "                if remaining_burst_times[i] <= time_quantum:\n",
        "                    current_time += remaining_burst_times[i]\n",
        "                    turnaround_times[i] = current_time\n",
        "                    remaining_burst_times[i] = 0\n",
        "                else:\n",
        "                    current_time += time_quantum\n",
        "                    remaining_burst_times[i] -= time_quantum\n",
        "\n",
        "                for j in range(n):\n",
        "                    if j != i and remaining_burst_times[j] > 0:\n",
        "                        waiting_times[j] += time_quantum\n",
        "\n",
        "    for i in range(n):\n",
        "        turnaround_times[i] -= waiting_times[i]\n",
        "\n",
        "    return waiting_times, turnaround_times\n",
        "\n",
        "def main():\n",
        "    n = int(input(\"Enter the number of processes: \"))\n",
        "    processes = [i+1 for i in range(n)]\n",
        "    burst_times = []\n",
        "\n",
        "    for i in range(n):\n",
        "        burst_time = int(input(f\"Enter burst time for Process {i+1}: \"))\n",
        "        burst_times.append(burst_time)\n",
        "\n",
        "    time_quantum = int(input(\"Enter time quantum: \"))\n",
        "\n",
        "    waiting_times, turnaround_times = calculate_times(processes, n, burst_times, time_quantum)\n",
        "\n",
        "    print(\"\\nProcess\\tBurst Time\\tWaiting Time\\tTurnaround Time\")\n",
        "    for i in range(n):\n",
        "        print(f\"P{processes[i]}\\t\\t{burst_times[i]}\\t\\t{waiting_times[i]}\\t\\t{turnaround_times[i]}\")\n",
        "\n",
        "    avg_waiting_time = sum(waiting_times) / n\n",
        "    avg_turnaround_time = sum(turnaround_times) / n\n",
        "    print(\"\\nAverage Waiting Time:\", avg_waiting_time)\n",
        "    print(\"Average Turnaround Time:\", avg_turnaround_time)\n",
        "\n",
        "if __name__ == \"__main__\":\n",
        "    main()\n"
      ],
      "metadata": {
        "colab": {
          "base_uri": "https://localhost:8080/",
          "height": 0
        },
        "id": "3HXZ1wuyFT1E",
        "outputId": "5b0f5317-8de9-4fd2-daeb-51440c0a4d39"
      },
      "execution_count": 4,
      "outputs": [
        {
          "output_type": "stream",
          "name": "stdout",
          "text": [
            "Enter the number of processes: 5\n",
            "Enter burst time for Process 1: 4\n",
            "Enter burst time for Process 2: 6\n",
            "Enter burst time for Process 3: 4\n",
            "Enter burst time for Process 4: 2\n",
            "Enter burst time for Process 5: 3\n",
            "Enter time quantum: 3\n",
            "\n",
            "Process\tBurst Time\tWaiting Time\tTurnaround Time\n",
            "P1\t\t4\t\t12\t\t3\n",
            "P2\t\t6\t\t15\t\t3\n",
            "P3\t\t4\t\t18\t\t1\n",
            "P4\t\t2\t\t9\t\t2\n",
            "P5\t\t3\t\t12\t\t2\n",
            "\n",
            "Average Waiting Time: 13.2\n",
            "Average Turnaround Time: 2.2\n"
          ]
        }
      ]
    },
    {
      "cell_type": "markdown",
      "source": [
        "\n",
        "Certainly! Here's the algorithm for the Round Robin (pre-emptive) CPU scheduling algorithm:\n",
        "Algorithm: Round Robin (pre-emptive) Scheduling\n",
        "1.\tStart with an empty ready queue and a list of processes with their burst times.\n",
        "2.\tInitialize the current time to 0.\n",
        "3.\tCreate a queue to hold the processes that are ready to execute.\n",
        "4.\tWhile there are processes remaining in the queue or the ready queue is not empty:\n",
        "•\tEnqueue processes that have arrived but haven't been executed yet to the ready queue.\n",
        "•\tDequeue the first process from the ready queue.\n",
        "•\tExecute the process for a fixed time quantum.\n",
        "•\tUpdate the current time by the time quantum or the remaining burst time, whichever is smaller.\n",
        "•\tIf the process's burst time is greater than the time quantum, enqueue it back into the ready queue.\n",
        "•\tCalculate the waiting time for the process as the difference between its total execution time so far and its arrival time.\n",
        "•\tIf the process has completed (burst time becomes 0), calculate the turnaround time for the process.\n",
        "5.\tCalculate the average waiting time as the sum of all waiting times divided by the number of processes.\n",
        "6.\tCalculate the average turnaround time as the sum of all turnaround times divided by the number of processes.\n",
        "Here's a breakdown of the terms used in the algorithm:\n",
        "\n"
      ],
      "metadata": {
        "id": "mAdV4iy0NwZu"
      }
    },
    {
      "cell_type": "markdown",
      "source": [
        "# 2. Write a program to simulate the following file allocation strategies.\n",
        "(a) Sequential (b) Indexed (c) Linked."
      ],
      "metadata": {
        "id": "TYA7ZWuGQFIs"
      }
    },
    {
      "cell_type": "markdown",
      "source": [
        "(A)"
      ],
      "metadata": {
        "id": "O3gxx6Y9Qecc"
      }
    },
    {
      "cell_type": "code",
      "source": [
        "def allocate_sequential(files, blocks):\n",
        "    allocated_blocks = []\n",
        "    for file_size in files:\n",
        "        if len(blocks) >= file_size:\n",
        "            allocated_blocks.append(blocks[:file_size])\n",
        "            blocks = blocks[file_size:]\n",
        "        else:\n",
        "            allocated_blocks.append([])\n",
        "    return allocated_blocks\n",
        "\n",
        "def main():\n",
        "    n = int(input(\"Enter the number of files: \"))\n",
        "    files = []\n",
        "\n",
        "    for i in range(n):\n",
        "        file_size = int(input(f\"Enter the size of file {i+1}: \"))\n",
        "        files.append(file_size)\n",
        "\n",
        "    total_blocks = int(input(\"Enter the total number of blocks: \"))\n",
        "    blocks = [i for i in range(1, total_blocks + 1)]\n",
        "\n",
        "    allocated_blocks = allocate_sequential(files, blocks)\n",
        "\n",
        "    print(\"\\nFile\\tAllocated Blocks\")\n",
        "    for i, blocks in enumerate(allocated_blocks):\n",
        "        print(f\"F{i+1}\\t{blocks}\")\n",
        "\n",
        "if __name__ == \"__main__\":\n",
        "    main()\n"
      ],
      "metadata": {
        "colab": {
          "base_uri": "https://localhost:8080/"
        },
        "id": "B8N17_WYQE5b",
        "outputId": "c99fc601-faa6-4712-9737-c7a06d46eaae"
      },
      "execution_count": 4,
      "outputs": [
        {
          "output_type": "stream",
          "name": "stdout",
          "text": [
            "Enter the number of files: 5\n",
            "Enter the size of file 1: 5\n",
            "Enter the size of file 2: 4\n",
            "Enter the size of file 3: 3\n",
            "Enter the size of file 4: 2\n",
            "Enter the size of file 5: 1\n",
            "Enter the total number of blocks: 4\n",
            "\n",
            "File\tAllocated Blocks\n",
            "F1\t[]\n",
            "F2\t[1, 2, 3, 4]\n",
            "F3\t[]\n",
            "F4\t[]\n",
            "F5\t[]\n"
          ]
        }
      ]
    },
    {
      "cell_type": "markdown",
      "source": [
        "1.\tStart with an empty list of allocated blocks.\n",
        "2.\tFor each file in the list of files:\n",
        "•\tCheck if there are enough consecutive free blocks to allocate to the file.\n",
        "•\tIf there are enough free blocks:\n",
        "•\tAllocate the required number of consecutive free blocks to the file.\n",
        "•\tRemove the allocated blocks from the list of free blocks.\n",
        "•\tAdd the allocated blocks to the list of allocated blocks for the file.\n",
        "•\tIf there are not enough free blocks, allocate an empty list to the file (indicating no allocation).\n",
        "3.\tContinue this process until all files have been processed.\n",
        "4.\tDisplay the allocated blocks for each file.\n",
        "\n"
      ],
      "metadata": {
        "id": "Ueh56vw8Qbv4"
      }
    },
    {
      "cell_type": "markdown",
      "source": [
        "(B)"
      ],
      "metadata": {
        "id": "kLnaZHWeQhJf"
      }
    },
    {
      "cell_type": "code",
      "source": [
        "def allocate_indexed(files, blocks):\n",
        "    allocated_blocks = {}\n",
        "\n",
        "    for i, file_size in enumerate(files):\n",
        "        if len(blocks) >= file_size:\n",
        "            allocated_blocks[i] = blocks[:file_size]\n",
        "            blocks = blocks[file_size:]\n",
        "\n",
        "    return allocated_blocks\n",
        "\n",
        "def main():\n",
        "    n = int(input(\"Enter the number of files: \"))\n",
        "    files = []\n",
        "\n",
        "    for i in range(n):\n",
        "        file_size = int(input(f\"Enter the size of file {i+1}: \"))\n",
        "        files.append(file_size)\n",
        "\n",
        "    total_blocks = int(input(\"Enter the total number of blocks: \"))\n",
        "    blocks = [i for i in range(1, total_blocks + 1)]\n",
        "\n",
        "    allocated_blocks = allocate_indexed(files, blocks)\n",
        "\n",
        "    print(\"\\nFile\\tAllocated Blocks\")\n",
        "    for i, blocks in allocated_blocks.items():\n",
        "        print(f\"F{i+1}\\t{blocks}\")\n",
        "\n",
        "if __name__ == \"__main__\":\n",
        "    main()\n"
      ],
      "metadata": {
        "colab": {
          "base_uri": "https://localhost:8080/",
          "height": 0
        },
        "id": "jhHwrTQLQc2E",
        "outputId": "8223b5b3-1c89-4ee1-c737-34e421a0641c"
      },
      "execution_count": 8,
      "outputs": [
        {
          "output_type": "stream",
          "name": "stdout",
          "text": [
            "Enter the number of files: 4\n",
            "Enter the size of file 1: 1\n",
            "Enter the size of file 2: 2\n",
            "Enter the size of file 3: 1\n",
            "Enter the size of file 4: 2\n",
            "Enter the total number of blocks: 5\n",
            "\n",
            "File\tAllocated Blocks\n",
            "F1\t[1]\n",
            "F2\t[2, 3]\n",
            "F3\t[4]\n"
          ]
        }
      ]
    },
    {
      "cell_type": "markdown",
      "source": [
        "1.\tStart with an empty dictionary of allocated blocks.\n",
        "2.\tFor each file in the list of files:\n",
        "•\tCheck if there are enough free blocks to allocate to the index block and the data blocks for the file.\n",
        "•\tIf there are enough free blocks:\n",
        "•\tAllocate a block for the index block and remove it from the list of free blocks.\n",
        "•\tAllocate consecutive blocks for the data blocks of the file and remove them from the list of free blocks.\n",
        "•\tStore the addresses of the allocated data blocks in the allocated index block.\n",
        "•\tAdd the index block and its associated data blocks to the allocated blocks dictionary for the file.\n",
        "•\tIf there are not enough free blocks, allocate an empty list to the file (indicating no allocation).\n",
        "3.\tContinue this process until all files have been processed.\n",
        "4.\tDisplay the allocated blocks for each file along with their index blocks.\n",
        "\n"
      ],
      "metadata": {
        "id": "T9sQkWQ9Q3OL"
      }
    },
    {
      "cell_type": "markdown",
      "source": [
        "(C)"
      ],
      "metadata": {
        "id": "DoZwo51uQ5Ar"
      }
    },
    {
      "cell_type": "code",
      "source": [
        "class Block:\n",
        "    def __init__(self, block_number):\n",
        "        self.block_number = block_number\n",
        "        self.next_block = None\n",
        "\n",
        "def allocate_linked(files, blocks):\n",
        "    allocated_blocks = []\n",
        "\n",
        "    for i, file_size in enumerate(files):\n",
        "        if len(blocks) >= file_size:\n",
        "            allocated_blocks.append(blocks[:file_size])\n",
        "            blocks = blocks[file_size:]\n",
        "        else:\n",
        "            allocated_blocks.append([])\n",
        "\n",
        "    return allocated_blocks\n",
        "\n",
        "def main():\n",
        "    n = int(input(\"Enter the number of files: \"))\n",
        "    files = []\n",
        "\n",
        "    for i in range(n):\n",
        "        file_size = int(input(f\"Enter the size of file {i+1}: \"))\n",
        "        files.append(file_size)\n",
        "\n",
        "    total_blocks = int(input(\"Enter the total number of blocks: \"))\n",
        "    blocks = [Block(i) for i in range(1, total_blocks + 1)]\n",
        "\n",
        "    allocated_blocks = allocate_linked(files, blocks)\n",
        "\n",
        "    print(\"\\nFile\\tAllocated Blocks\")\n",
        "    for i, blocks in enumerate(allocated_blocks):\n",
        "        if blocks:\n",
        "            print(f\"F{i+1}\\t{blocks[0].block_number}\", end=\" -> \")\n",
        "            for block in blocks[1:]:\n",
        "                print(block.block_number, end=\" -> \")\n",
        "            print(\"None\")\n",
        "        else:\n",
        "            print(f\"F{i+1}\\tNone\")\n",
        "\n",
        "if __name__ == \"__main__\":\n",
        "    main()\n"
      ],
      "metadata": {
        "colab": {
          "base_uri": "https://localhost:8080/"
        },
        "id": "ntQ-owt-Q6JL",
        "outputId": "7294b965-4f7b-4629-f36a-a93242127641"
      },
      "execution_count": 6,
      "outputs": [
        {
          "output_type": "stream",
          "name": "stdout",
          "text": [
            "Enter the number of files: 5\n",
            "Enter the size of file 1: 4\n",
            "Enter the size of file 2: 2\n",
            "Enter the size of file 3: 8\n",
            "Enter the size of file 4: 3\n",
            "Enter the size of file 5: 9\n",
            "Enter the total number of blocks: 6\n",
            "\n",
            "File\tAllocated Blocks\n",
            "F1\t1 -> 2 -> 3 -> 4 -> None\n",
            "F2\t5 -> 6 -> None\n",
            "F3\tNone\n",
            "F4\tNone\n",
            "F5\tNone\n"
          ]
        }
      ]
    },
    {
      "cell_type": "markdown",
      "source": [
        "1.\tStart with an empty list of allocated blocks for each file.\n",
        "2.\tFor each file in the list of files:\n",
        "•\tCheck if there are enough free blocks to allocate to the file.\n",
        "•\tIf there are enough free blocks:\n",
        "•\tAllocate the required number of consecutive free blocks to the file.\n",
        "•\tCreate a linked list of blocks, where each block contains a block number and a reference to the next block in the list.\n",
        "•\tRemove the allocated blocks from the list of free blocks.\n",
        "•\tAdd the linked list of blocks to the allocated blocks list for the file.\n",
        "•\tIf there are not enough free blocks, allocate an empty list to the file (indicating no allocation).\n",
        "3.\tContinue this process until all files have been processed.\n",
        "4.\tDisplay the allocated blocks for each file using their linked lists.\n",
        "\n"
      ],
      "metadata": {
        "id": "cdTkr-f7RIqr"
      }
    },
    {
      "cell_type": "markdown",
      "source": [
        "# 3. Write a program to simulate paging technique of memory management"
      ],
      "metadata": {
        "id": "cIfX7y93RUua"
      }
    },
    {
      "cell_type": "code",
      "source": [
        "def simulate_paging(memory_size, page_size, reference_string):\n",
        "    num_pages = memory_size // page_size\n",
        "    page_table = {}\n",
        "    page_faults = 0\n",
        "\n",
        "    for page_number in range(num_pages):\n",
        "        page_table[page_number] = None\n",
        "\n",
        "    for reference in reference_string:\n",
        "        page_number = reference // page_size\n",
        "\n",
        "        if page_table[page_number] is None:\n",
        "            page_faults += 1\n",
        "            page_table[page_number] = reference\n",
        "            print(f\"Page fault occurred for reference {reference}. Page {page_number} loaded.\")\n",
        "        else:\n",
        "            print(f\"Reference {reference} found in page {page_number}.\")\n",
        "\n",
        "    return page_faults\n",
        "\n",
        "def main():\n",
        "    memory_size = int(input(\"Enter the total memory size: \"))\n",
        "    page_size = int(input(\"Enter the page size: \"))\n",
        "    reference_string = list(map(int, input(\"Enter the reference string (space-separated): \").split()))\n",
        "\n",
        "    page_faults = simulate_paging(memory_size, page_size, reference_string)\n",
        "    print(\"\\nTotal page faults:\", page_faults)\n",
        "\n",
        "if __name__ == \"__main__\":\n",
        "    main()\n"
      ],
      "metadata": {
        "id": "geClf0-GRZ0q"
      },
      "execution_count": null,
      "outputs": []
    },
    {
      "cell_type": "markdown",
      "source": [
        "1.\tStart with the total memory size, page size, and a reference string.\n",
        "2.\tCalculate the number of frames (blocks in memory) by dividing the total memory size by the page size.\n",
        "3.\tInitialize a page table with as many entries as there are frames, where each entry initially points to no page.\n",
        "4.\tInitialize a variable to count page faults (initialized to 0).\n",
        "5.\tFor each reference in the reference string:\n",
        "•\tCalculate the page number corresponding to the reference by dividing the reference by the page size.\n",
        "•\tCheck if the page table entry for the calculated page number is empty (points to no page).\n",
        "•\tIf it's empty, it's a page fault.\n",
        "•\tIncrement the page fault counter.\n",
        "•\tReplace the empty entry with the current reference.\n",
        "•\tPrint a message indicating a page fault occurred and a page was loaded.\n",
        "•\tIf it's not empty, it's a page hit.\n",
        "•\tPrint a message indicating the reference was found in the page.\n",
        "6.\tAfter processing all references, the total number of page faults is the value of the page fault counter.\n",
        "7.\tDisplay the total number of page faults.\n",
        "\n"
      ],
      "metadata": {
        "id": "QC0nvMwURYrT"
      }
    },
    {
      "cell_type": "markdown",
      "source": [
        "# 4. Write a program to simulate the following file organization techniques\n",
        "(a) Single level directory (b) Two level directory (c) Hierarchical."
      ],
      "metadata": {
        "id": "qdkTVFWKR0Vm"
      }
    },
    {
      "cell_type": "markdown",
      "source": [
        "(A)"
      ],
      "metadata": {
        "id": "y5SU62SeSIse"
      }
    },
    {
      "cell_type": "code",
      "source": [
        "class SingleLevelDirectory:\n",
        "    def __init__(self):\n",
        "        self.files = {}\n",
        "\n",
        "    def create_file(self, filename):\n",
        "        if filename in self.files:\n",
        "            print(f\"File '{filename}' already exists.\")\n",
        "        else:\n",
        "            self.files[filename] = 0\n",
        "            print(f\"File '{filename}' created successfully.\")\n",
        "\n",
        "    def delete_file(self, filename):\n",
        "        if filename in self.files:\n",
        "            del self.files[filename]\n",
        "            print(f\"File '{filename}' deleted successfully.\")\n",
        "        else:\n",
        "            print(f\"File '{filename}' not found.\")\n",
        "\n",
        "    def display_files(self):\n",
        "        if not self.files:\n",
        "            print(\"No files in the directory.\")\n",
        "        else:\n",
        "            print(\"Files in the directory:\")\n",
        "            for filename, size in self.files.items():\n",
        "                print(f\"{filename}\\tSize: {size} KB\")\n",
        "\n",
        "def main():\n",
        "    directory = SingleLevelDirectory()\n",
        "\n",
        "    while True:\n",
        "        print(\"\\nMenu:\")\n",
        "        print(\"1. Create File\")\n",
        "        print(\"2. Delete File\")\n",
        "        print(\"3. Display Files\")\n",
        "        print(\"4. Exit\")\n",
        "\n",
        "        choice = int(input(\"Enter your choice: \"))\n",
        "\n",
        "        if choice == 1:\n",
        "            filename = input(\"Enter the filename: \")\n",
        "            directory.create_file(filename)\n",
        "        elif choice == 2:\n",
        "            filename = input(\"Enter the filename: \")\n",
        "            directory.delete_file(filename)\n",
        "        elif choice == 3:\n",
        "            directory.display_files()\n",
        "        elif choice == 4:\n",
        "            break\n",
        "        else:\n",
        "            print(\"Invalid choice. Please select a valid option.\")\n",
        "\n",
        "if __name__ == \"__main__\":\n",
        "    main()\n"
      ],
      "metadata": {
        "colab": {
          "base_uri": "https://localhost:8080/",
          "height": 0
        },
        "id": "4DCAIxdMR2Q2",
        "outputId": "033a7739-747d-4dfa-8e2f-d35613579a33"
      },
      "execution_count": 9,
      "outputs": [
        {
          "name": "stdout",
          "output_type": "stream",
          "text": [
            "\n",
            "Menu:\n",
            "1. Create File\n",
            "2. Delete File\n",
            "3. Display Files\n",
            "4. Exit\n",
            "Enter your choice: 1\n",
            "Enter the filename: SEGAR.TXTG\n",
            "File 'SEGAR.TXTG' created successfully.\n",
            "\n",
            "Menu:\n",
            "1. Create File\n",
            "2. Delete File\n",
            "3. Display Files\n",
            "4. Exit\n",
            "Enter your choice: 3\n",
            "Files in the directory:\n",
            "SEGAR.TXTG\tSize: 0 KB\n",
            "\n",
            "Menu:\n",
            "1. Create File\n",
            "2. Delete File\n",
            "3. Display Files\n",
            "4. Exit\n",
            "Enter your choice: 2\n",
            "Enter the filename: SEGAR.TXTG\n",
            "File 'SEGAR.TXTG' deleted successfully.\n",
            "\n",
            "Menu:\n",
            "1. Create File\n",
            "2. Delete File\n",
            "3. Display Files\n",
            "4. Exit\n",
            "Enter your choice: 3\n",
            "No files in the directory.\n",
            "\n",
            "Menu:\n",
            "1. Create File\n",
            "2. Delete File\n",
            "3. Display Files\n",
            "4. Exit\n",
            "Enter your choice: 4\n"
          ]
        }
      ]
    },
    {
      "cell_type": "markdown",
      "source": [
        "1.\tStart with an empty list or data structure to represent the directory.\n",
        "2.\tInitialize options for user interaction, such as creating a file, deleting a file, displaying files, and exiting.\n",
        "3.\tWhile the user does not choose to exit:\n",
        "•\tDisplay the menu of options to the user.\n",
        "•\tAccept the user's choice.\n",
        "•\tIf the choice is to create a file:\n",
        "•\tAccept the filename from the user.\n",
        "•\tCheck if the filename already exists in the directory.\n",
        "•\tIf it exists, display an error message.\n",
        "•\tIf it does not exist, add the filename to the directory with an associated size of 0.\n",
        "•\tIf the choice is to delete a file:\n",
        "•\tAccept the filename from the user.\n",
        "•\tCheck if the filename exists in the directory.\n",
        "•\tIf it exists, remove the filename from the directory.\n",
        "•\tIf it does not exist, display an error message.\n",
        "•\tIf the choice is to display files:\n",
        "•\tCheck if the directory is empty.\n",
        "•\tIf it is empty, display a message indicating no files.\n",
        "•\tIf it is not empty, display each filename along with its associated size.\n",
        "•\tIf the choice is invalid, display an error message.\n",
        "4.\tExit the program when the user chooses to exit.\n",
        "\n"
      ],
      "metadata": {
        "id": "pccfglGnSKMf"
      }
    },
    {
      "cell_type": "markdown",
      "source": [
        "(B)"
      ],
      "metadata": {
        "id": "zLgBzaF4SdL9"
      }
    },
    {
      "cell_type": "code",
      "source": [
        "class TwoLevelDirectory:\n",
        "    def __init__(self):\n",
        "        self.directories = {}\n",
        "\n",
        "    def create_directory(self, directory_name):\n",
        "        if directory_name in self.directories:\n",
        "            print(f\"Directory '{directory_name}' already exists.\")\n",
        "        else:\n",
        "            self.directories[directory_name] = {}\n",
        "\n",
        "    def create_file(self, directory_name, filename):\n",
        "        if directory_name in self.directories:\n",
        "            directory = self.directories[directory_name]\n",
        "            if filename in directory:\n",
        "                print(f\"File '{filename}' already exists in directory '{directory_name}'.\")\n",
        "            else:\n",
        "                directory[filename] = 0\n",
        "                print(f\"File '{filename}' created in directory '{directory_name}'.\")\n",
        "        else:\n",
        "            print(f\"Directory '{directory_name}' not found.\")\n",
        "\n",
        "    def delete_file(self, directory_name, filename):\n",
        "        if directory_name in self.directories:\n",
        "            directory = self.directories[directory_name]\n",
        "            if filename in directory:\n",
        "                del directory[filename]\n",
        "                print(f\"File '{filename}' deleted from directory '{directory_name}'.\")\n",
        "            else:\n",
        "                print(f\"File '{filename}' not found in directory '{directory_name}'.\")\n",
        "        else:\n",
        "            print(f\"Directory '{directory_name}' not found.\")\n",
        "\n",
        "    def display_files(self, directory_name):\n",
        "        if directory_name in self.directories:\n",
        "            directory = self.directories[directory_name]\n",
        "            if not directory:\n",
        "                print(f\"No files in directory '{directory_name}'.\")\n",
        "            else:\n",
        "                print(f\"Files in directory '{directory_name}':\")\n",
        "                for filename, size in directory.items():\n",
        "                    print(f\"{filename}\\tSize: {size} KB\")\n",
        "        else:\n",
        "            print(f\"Directory '{directory_name}' not found.\")\n",
        "\n",
        "def main():\n",
        "    directory_system = TwoLevelDirectory()\n",
        "\n",
        "    while True:\n",
        "        print(\"\\nMenu:\")\n",
        "        print(\"1. Create Directory\")\n",
        "        print(\"2. Create File\")\n",
        "        print(\"3. Delete File\")\n",
        "        print(\"4. Display Files\")\n",
        "        print(\"5. Exit\")\n",
        "\n",
        "        choice = int(input(\"Enter your choice: \"))\n",
        "\n",
        "        if choice == 1:\n",
        "            directory_name = input(\"Enter the directory name: \")\n",
        "            directory_system.create_directory(directory_name)\n",
        "        elif choice == 2:\n",
        "            directory_name = input(\"Enter the directory name: \")\n",
        "            filename = input(\"Enter the filename: \")\n",
        "            directory_system.create_file(directory_name, filename)\n",
        "        elif choice == 3:\n",
        "            directory_name = input(\"Enter the directory name: \")\n",
        "            filename = input(\"Enter the filename: \")\n",
        "            directory_system.delete_file(directory_name, filename)\n",
        "        elif choice == 4:\n",
        "            directory_name = input(\"Enter the directory name: \")\n",
        "            directory_system.display_files(directory_name)\n",
        "        elif choice == 5:\n",
        "            break\n",
        "        else:\n",
        "            print(\"Invalid choice. Please select a valid option.\")\n",
        "\n",
        "if __name__ == \"__main__\":\n",
        "    main()\n"
      ],
      "metadata": {
        "colab": {
          "base_uri": "https://localhost:8080/",
          "height": 0
        },
        "id": "zZGskWpuSeec",
        "outputId": "0a134bc1-bda6-463d-8474-cb9cfe3c844a"
      },
      "execution_count": 10,
      "outputs": [
        {
          "name": "stdout",
          "output_type": "stream",
          "text": [
            "\n",
            "Menu:\n",
            "1. Create Directory\n",
            "2. Create File\n",
            "3. Delete File\n",
            "4. Display Files\n",
            "5. Exit\n",
            "Enter your choice: 1\n",
            "Enter the directory name: DIR1\n",
            "\n",
            "Menu:\n",
            "1. Create Directory\n",
            "2. Create File\n",
            "3. Delete File\n",
            "4. Display Files\n",
            "5. Exit\n",
            "Enter your choice: 2\n",
            "Enter the directory name: SEGAR.TXT\n",
            "Enter the filename: SEGAR.TXT\n",
            "Directory 'SEGAR.TXT' not found.\n",
            "\n",
            "Menu:\n",
            "1. Create Directory\n",
            "2. Create File\n",
            "3. Delete File\n",
            "4. Display Files\n",
            "5. Exit\n",
            "Enter your choice: 2\n",
            "Enter the directory name: DIR1\n",
            "Enter the filename: SEGAR.TXT\n",
            "File 'SEGAR.TXT' created in directory 'DIR1'.\n",
            "\n",
            "Menu:\n",
            "1. Create Directory\n",
            "2. Create File\n",
            "3. Delete File\n",
            "4. Display Files\n",
            "5. Exit\n",
            "Enter your choice: 4\n",
            "Enter the directory name: DIR1\n",
            "Files in directory 'DIR1':\n",
            "SEGAR.TXT\tSize: 0 KB\n",
            "\n",
            "Menu:\n",
            "1. Create Directory\n",
            "2. Create File\n",
            "3. Delete File\n",
            "4. Display Files\n",
            "5. Exit\n",
            "Enter your choice: 3\n",
            "Enter the directory name: DIR1\n",
            "Enter the filename: SEGAR.TXT\n",
            "File 'SEGAR.TXT' deleted from directory 'DIR1'.\n",
            "\n",
            "Menu:\n",
            "1. Create Directory\n",
            "2. Create File\n",
            "3. Delete File\n",
            "4. Display Files\n",
            "5. Exit\n",
            "Enter your choice: 5\n"
          ]
        }
      ]
    },
    {
      "cell_type": "markdown",
      "source": [
        "1.\tStart with an empty dictionary to represent the root directory.\n",
        "2.\tInitialize options for user interaction, such as creating a directory, creating a file, deleting a file, displaying files, and exiting.\n",
        "3.\tWhile the user does not choose to exit:\n",
        "•\tDisplay the menu of options to the user.\n",
        "•\tAccept the user's choice.\n",
        "•\tIf the choice is to create a directory:\n",
        "•\tAccept the directory name from the user.\n",
        "•\tCheck if the directory name already exists in the root directory.\n",
        "•\tIf it exists, display an error message.\n",
        "•\tIf it does not exist, add the directory name to the root directory with an associated dictionary (subdirectory).\n",
        "•\tIf the choice is to create a file:\n",
        "•\tAccept the directory name and filename from the user.\n",
        "•\tCheck if the directory name exists in the root directory.\n",
        "•\tIf it exists, check if the filename already exists in the directory's dictionary (subdirectory).\n",
        "•\tIf it exists, display an error message.\n",
        "•\tIf it does not exist, add the filename to the directory's dictionary with an associated size of 0.\n",
        "•\tIf it does not exist, display an error message.\n",
        "•\tIf the choice is to delete a file:\n",
        "•\tAccept the directory name and filename from the user.\n",
        "•\tCheck if the directory name exists in the root directory.\n",
        "•\tIf it exists, check if the filename exists in the directory's dictionary.\n",
        "•\tIf it exists, remove the filename from the directory's dictionary.\n",
        "•\tIf it does not exist, display an error message.\n",
        "•\tIf it does not exist, display an error message.\n",
        "•\tIf the choice is to display files:\n",
        "•\tAccept the directory name from the user.\n",
        "•\tCheck if the directory name exists in the root directory.\n",
        "•\tIf it exists, check if the directory's dictionary is empty.\n",
        "•\tIf it is empty, display a message indicating no files.\n",
        "•\tIf it is not empty, display each filename along with its associated size.\n",
        "•\tIf it does not exist, display an error message.\n",
        "•\tIf the choice is invalid, display an error message.\n",
        "4.\tExit the program when the user chooses to exit.\n",
        "\n"
      ],
      "metadata": {
        "id": "PHh4mpPtS_Gk"
      }
    },
    {
      "cell_type": "markdown",
      "source": [
        "(C)"
      ],
      "metadata": {
        "id": "bzE8rqcWTEzR"
      }
    },
    {
      "cell_type": "code",
      "source": [
        "class HierarchicalDirectory:\n",
        "    def __init__(self):\n",
        "        self.root = DirectoryNode(\"root\")\n",
        "\n",
        "    def create_directory(self, path):\n",
        "        parent_dir, dir_name = self.split_path(path)\n",
        "        parent_node = self.find_directory_node(parent_dir)\n",
        "        if parent_node:\n",
        "            parent_node.add_directory(dir_name)\n",
        "            print(f\"Directory '{dir_name}' created in '{parent_dir}'.\")\n",
        "        else:\n",
        "            print(f\"Parent directory '{parent_dir}' not found.\")\n",
        "\n",
        "    def create_file(self, path, filename):\n",
        "        dir_name, _ = self.split_path(path)\n",
        "        directory_node = self.find_directory_node(dir_name)\n",
        "        if directory_node:\n",
        "            directory_node.add_file(filename)\n",
        "            print(f\"File '{filename}' created in '{dir_name}'.\")\n",
        "        else:\n",
        "            print(f\"Directory '{dir_name}' not found.\")\n",
        "\n",
        "    def delete_file(self, path, filename):\n",
        "        dir_name, _ = self.split_path(path)\n",
        "        directory_node = self.find_directory_node(dir_name)\n",
        "        if directory_node:\n",
        "            if directory_node.delete_file(filename):\n",
        "                print(f\"File '{filename}' deleted from '{dir_name}'.\")\n",
        "            else:\n",
        "                print(f\"File '{filename}' not found in '{dir_name}'.\")\n",
        "        else:\n",
        "            print(f\"Directory '{dir_name}' not found.\")\n",
        "\n",
        "    def display_files(self, path):\n",
        "        dir_name, _ = self.split_path(path)\n",
        "        directory_node = self.find_directory_node(dir_name)\n",
        "        if directory_node:\n",
        "            directory_node.display_files()\n",
        "        else:\n",
        "            print(f\"Directory '{dir_name}' not found.\")\n",
        "\n",
        "    def split_path(self, path):\n",
        "        parts = path.split(\"/\")\n",
        "        parent_dir = \"/\".join(parts[:-1])\n",
        "        dir_name = parts[-1]\n",
        "        return parent_dir, dir_name\n",
        "\n",
        "    def find_directory_node(self, path):\n",
        "        if path == \"root\":\n",
        "            return self.root\n",
        "        parts = path.split(\"/\")\n",
        "        current_node = self.root\n",
        "        for part in parts:\n",
        "            if part in current_node.subdirectories:\n",
        "                current_node = current_node.subdirectories[part]\n",
        "            else:\n",
        "                return None\n",
        "        return current_node\n",
        "\n",
        "class DirectoryNode:\n",
        "    def __init__(self, name):\n",
        "        self.name = name\n",
        "        self.subdirectories = {}\n",
        "        self.files = []\n",
        "\n",
        "    def add_directory(self, name):\n",
        "        self.subdirectories[name] = DirectoryNode(name)\n",
        "\n",
        "    def add_file(self, filename):\n",
        "        self.files.append(filename)\n",
        "\n",
        "    def delete_file(self, filename):\n",
        "        if filename in self.files:\n",
        "            self.files.remove(filename)\n",
        "            return True\n",
        "        return False\n",
        "\n",
        "    def display_files(self):\n",
        "        if not self.files:\n",
        "            print(f\"No files in directory '{self.name}'.\")\n",
        "        else:\n",
        "            print(f\"Files in directory '{self.name}':\")\n",
        "            for filename in self.files:\n",
        "                print(filename)\n",
        "\n",
        "def main():\n",
        "    directory_system = HierarchicalDirectory()\n",
        "\n",
        "    while True:\n",
        "        print(\"\\nMenu:\")\n",
        "        print(\"1. Create Directory\")\n",
        "        print(\"2. Create File\")\n",
        "        print(\"3. Delete File\")\n",
        "        print(\"4. Display Files\")\n",
        "        print(\"5. Exit\")\n",
        "\n",
        "        choice = int(input(\"Enter your choice: \"))\n",
        "\n",
        "        if choice == 1:\n",
        "            path = input(\"Enter the directory path: \")\n",
        "            directory_system.create_directory(path)\n",
        "        elif choice == 2:\n",
        "            path = input(\"Enter the directory path: \")\n",
        "            filename = input(\"Enter the filename: \")\n",
        "            directory_system.create_file(path, filename)\n",
        "        elif choice == 3:\n",
        "            path = input(\"Enter the directory path: \")\n",
        "            filename = input(\"Enter the filename: \")\n",
        "            directory_system.delete_file(path, filename)\n",
        "        elif choice == 4:\n",
        "            path = input(\"Enter the directory path: \")\n",
        "            directory_system.display_files(path)\n",
        "        elif choice == 5:\n",
        "            break\n",
        "        else:\n",
        "            print(\"Invalid choice. Please select a valid option.\")\n",
        "\n",
        "if __name__ == \"__main__\":\n",
        "    main()\n"
      ],
      "metadata": {
        "colab": {
          "base_uri": "https://localhost:8080/"
        },
        "id": "TvhCcgPQTF19",
        "outputId": "d14bdd18-b55f-421e-8748-1a16d1778f76"
      },
      "execution_count": 2,
      "outputs": [
        {
          "name": "stdout",
          "output_type": "stream",
          "text": [
            "\n",
            "Menu:\n",
            "1. Create Directory\n",
            "2. Create File\n",
            "3. Delete File\n",
            "4. Display Files\n",
            "5. Exit\n",
            "Enter your choice: 5\n"
          ]
        }
      ]
    },
    {
      "cell_type": "markdown",
      "source": [
        "1.\tStart with a root directory node to represent the root of the hierarchy.\n",
        "2.\tInitialize options for user interaction, such as creating a directory, creating a file, deleting a file, displaying files, and exiting.\n",
        "3.\tWhile the user does not choose to exit:\n",
        "•\tDisplay the menu of options to the user.\n",
        "•\tAccept the user's choice.\n",
        "•\tIf the choice is to create a directory:\n",
        "•\tAccept the directory path from the user.\n",
        "•\tSplit the path into parent directory and directory name.\n",
        "•\tFind the parent directory node in the hierarchy.\n",
        "•\tIf the parent node is found:\n",
        "•\tAdd a new directory node to the parent's subdirectories with the given directory name.\n",
        "•\tPrint a message indicating the directory creation.\n",
        "•\tIf the parent node is not found, display an error message.\n",
        "•\tIf the choice is to create a file:\n",
        "•\tAccept the file path from the user.\n",
        "•\tFind the directory node in the hierarchy.\n",
        "•\tIf the directory node is found:\n",
        "•\tAdd the filename to the directory's list of files.\n",
        "•\tPrint a message indicating the file creation.\n",
        "•\tIf the directory node is not found, display an error message.\n",
        "•\tIf the choice is to delete a file:\n",
        "•\tAccept the file path from the user.\n",
        "•\tFind the directory node in the hierarchy.\n",
        "•\tIf the directory node is found:\n",
        "•\tIf the file exists in the directory's list of files:\n",
        "•\tRemove the filename from the list.\n",
        "•\tPrint a message indicating the file deletion.\n",
        "•\tIf the file does not exist in the list, display an error message.\n",
        "•\tIf the directory node is not found, display an error message.\n",
        "•\tIf the choice is to display files:\n",
        "•\tAccept the directory path from the user.\n",
        "•\tFind the directory node in the hierarchy.\n",
        "•\tIf the directory node is found:\n",
        "•\tDisplay the list of files in the directory.\n",
        "•\tIf the directory is empty, display a message indicating no files.\n",
        "•\tIf the directory node is not found, display an error message.\n",
        "•\tIf the choice is invalid, display an error message.\n",
        "4.\tExit the program when the user chooses to exit.\n",
        "\n"
      ],
      "metadata": {
        "id": "IwMlFG92TU71"
      }
    },
    {
      "cell_type": "markdown",
      "source": [
        "# 5. Write a program to simulate Bankers algorithm for the purpose of deadlock avoidance."
      ],
      "metadata": {
        "id": "KbgNx_6iT6f5"
      }
    },
    {
      "cell_type": "code",
      "source": [
        "class BankersAlgorithm:\n",
        "    def __init__(self, num_processes, num_resources):\n",
        "        self.num_processes = num_processes\n",
        "        self.num_resources = num_resources\n",
        "        self.max_claim = [[0] * self.num_resources for _ in range(self.num_processes)]\n",
        "        self.allocation = [[0] * self.num_resources for _ in range(self.num_processes)]\n",
        "        self.available = [0] * self.num_resources\n",
        "        self.need = [[0] * self.num_resources for _ in range(self.num_processes)]\n",
        "        self.safe_sequence = []\n",
        "\n",
        "    def initialize_data(self):\n",
        "        for i in range(self.num_processes):\n",
        "            print(f\"Enter maximum claim for process P{i} (comma-separated):\")\n",
        "            self.max_claim[i] = list(map(int, input().split()))\n",
        "\n",
        "            print(f\"Enter allocation for process P{i} (comma-separated):\")\n",
        "            self.allocation[i] = list(map(int, input().split()))\n",
        "\n",
        "        print(\"Enter available resources (comma-separated):\")\n",
        "        self.available = list(map(int, input().split()))\n",
        "\n",
        "    def calculate_need(self):\n",
        "        for i in range(self.num_processes):\n",
        "            for j in range(self.num_resources):\n",
        "                self.need[i][j] = self.max_claim[i][j] - self.allocation[i][j]\n",
        "\n",
        "    def check_safety(self):\n",
        "        work = self.available[:]\n",
        "        finish = [False] * self.num_processes\n",
        "\n",
        "        while True:\n",
        "            found = False\n",
        "            for i in range(self.num_processes):\n",
        "                if not finish[i] and all(need <= work for need, work in zip(self.need[i], work)):\n",
        "                    work = [work[j] + self.allocation[i][j] for j in range(self.num_resources)]\n",
        "                    self.safe_sequence.append(i)\n",
        "                    finish[i] = True\n",
        "                    found = True\n",
        "\n",
        "            if not found:\n",
        "                break\n",
        "\n",
        "        return all(finish)\n",
        "\n",
        "    def request_resources(self, process, request):\n",
        "        if all(req <= need for req, need in zip(request, self.need[process])):\n",
        "            if all(req <= avail for req, avail in zip(request, self.available)):\n",
        "                self.available = [avail - req for avail, req in zip(self.available, request)]\n",
        "                self.allocation[process] = [alloc + req for alloc, req in zip(self.allocation[process], request)]\n",
        "                self.need[process] = [need - req for need, req in zip(self.need[process], request)]\n",
        "                if self.check_safety():\n",
        "                    print(\"Request granted. System is in a safe state.\")\n",
        "                    print(\"Safe sequence:\", self.safe_sequence)\n",
        "                else:\n",
        "                    print(\"Request granted, but system is not in a safe state. Request denied.\")\n",
        "                    self.available = [avail + req for avail, req in zip(self.available, request)]\n",
        "                    self.allocation[process] = [alloc - req for alloc, req in zip(self.allocation[process], request)]\n",
        "                    self.need[process] = [need + req for need, req in zip(self.need[process], request)]\n",
        "            else:\n",
        "                print(\"Request denied. Resources not available.\")\n",
        "        else:\n",
        "            print(\"Request denied. Exceeds maximum claim.\")\n",
        "\n",
        "def main():\n",
        "    num_processes = int(input(\"Enter the number of processes: \"))\n",
        "    num_resources = int(input(\"Enter the number of resources: \"))\n",
        "\n",
        "    banker = BankersAlgorithm(num_processes, num_resources)\n",
        "    banker.initialize_data()\n",
        "    banker.calculate_need()\n",
        "\n",
        "    while True:\n",
        "        print(\"\\nMenu:\")\n",
        "        print(\"1. Request Resources\")\n",
        "        print(\"2. Exit\")\n",
        "\n",
        "        choice = int(input(\"Enter your choice: \"))\n",
        "\n",
        "        if choice == 1:\n",
        "            process = int(input(\"Enter the process number: \"))\n",
        "            request = list(map(int, input(f\"Enter the resource request for process P{process} (comma-separated): \").split()))\n",
        "            banker.request_resources(process, request)\n",
        "        elif choice == 2:\n",
        "            break\n",
        "        else:\n",
        "            print(\"Invalid choice. Please select a valid option.\")\n",
        "\n",
        "if __name__ == \"__main__\":\n",
        "    main()\n"
      ],
      "metadata": {
        "colab": {
          "base_uri": "https://localhost:8080/"
        },
        "id": "6eCep7-1T9xt",
        "outputId": "03de74f7-af94-4f90-8cd8-eacfec7f0d1e"
      },
      "execution_count": 9,
      "outputs": [
        {
          "name": "stdout",
          "output_type": "stream",
          "text": [
            "Enter the number of processes: 2\n",
            "Enter the number of resources: 3\n",
            "Enter maximum claim for process P0 (comma-separated):\n",
            "7 5 3\n",
            "Enter allocation for process P0 (comma-separated):\n",
            "0 1 0\n",
            "Enter maximum claim for process P1 (comma-separated):\n",
            "3 2 2\n",
            "Enter allocation for process P1 (comma-separated):\n",
            "2 0 0\n",
            "Enter available resources (comma-separated):\n",
            "3 3 2\n",
            "\n",
            "Menu:\n",
            "1. Request Resources\n",
            "2. Exit\n",
            "Enter your choice: 1\n",
            "Enter the process number: 0\n",
            "Enter the resource request for process P0 (comma-separated): 0 0 1\n",
            "Request granted, but system is not in a safe state. Request denied.\n",
            "\n",
            "Menu:\n",
            "1. Request Resources\n",
            "2. Exit\n",
            "Enter your choice: 2\n"
          ]
        }
      ]
    },
    {
      "cell_type": "markdown",
      "source": [
        "1.\tInitialize data structures:\n",
        "•\tmax_claim: A matrix that represents the maximum number of each resource that a process may need.\n",
        "•\tallocation: A matrix that represents the number of each resource currently allocated to each process.\n",
        "•\tavailable: An array that represents the number of available instances of each resource.\n",
        "•\tneed: A matrix that represents the remaining resources that each process may need.\n",
        "•\tsafe_sequence: An array that stores the sequence of processes in a safe state.\n",
        "2.\tInput data:\n",
        "•\tFor each process P[i]:\n",
        "•\tInput the maximum claim (max_claim) for each resource.\n",
        "•\tInput the current allocation (allocation) for each resource.\n",
        "3.\tCalculate the resource need:\n",
        "•\tFor each process P[i] and resource R[j]:\n",
        "•\tneed[i][j] = max_claim[i][j] - allocation[i][j].\n",
        "4.\tInitialize variables:\n",
        "•\twork = available\n",
        "•\tfinish[i] = False for each process P[i]\n",
        "5.\tSafety check loop:\n",
        "•\tWhile there are unfinished processes:\n",
        "•\tFor each process P[i]:\n",
        "•\tIf finish[i] is False and need[i][j] <= work[j] for all resources R[j]:\n",
        "•\twork[j] += allocation[i][j]\n",
        "•\tfinish[i] = True\n",
        "•\tAppend i to safe_sequence\n",
        "6.\tIf all processes are finished (system is in a safe state):\n",
        "•\tDisplay the safe_sequence indicating a safe state.\n",
        "•\tGrant the requested resources if needed resources are available.\n",
        "7.\tIf any process cannot finish (system is not in a safe state):\n",
        "•\tDeny the requested resources and display appropriate messages.\n",
        "\n"
      ],
      "metadata": {
        "id": "qD8lDUstU6Hz"
      }
    },
    {
      "cell_type": "markdown",
      "source": [
        "# 6 Write a program to simulate disk scheduling algorithms\n",
        "(a) FCFS (b) SCAN (c) C-SCAN."
      ],
      "metadata": {
        "id": "RDEILipWO4WA"
      }
    },
    {
      "cell_type": "markdown",
      "source": [
        "(A)"
      ],
      "metadata": {
        "id": "Hs78Ezy5PY8F"
      }
    },
    {
      "cell_type": "code",
      "source": [
        "def calculate_seek_time(requests):\n",
        "    n = len(requests)\n",
        "    total_seek_time = 0\n",
        "\n",
        "    for i in range(1, n):\n",
        "        seek_distance = abs(requests[i] - requests[i - 1])\n",
        "        total_seek_time += seek_distance\n",
        "\n",
        "    return total_seek_time\n",
        "\n",
        "def main():\n",
        "    n = int(input(\"Enter the number of requests: \"))\n",
        "    requests = []\n",
        "\n",
        "    for i in range(n):\n",
        "        request = int(input(f\"Enter request {i + 1}: \"))\n",
        "        requests.append(request)\n",
        "\n",
        "    seek_time = calculate_seek_time(requests)\n",
        "\n",
        "    print(\"\\nTotal Seek Time:\", seek_time)\n",
        "\n",
        "if __name__ == \"__main__\":\n",
        "    main()\n"
      ],
      "metadata": {
        "colab": {
          "base_uri": "https://localhost:8080/",
          "height": 0
        },
        "id": "GQhJvMs_O6Q5",
        "outputId": "ea0bf3ae-3bec-4d5d-dfa7-10e331441966"
      },
      "execution_count": 6,
      "outputs": [
        {
          "output_type": "stream",
          "name": "stdout",
          "text": [
            "Enter the number of requests: 3\n",
            "Enter request 1: 5\n",
            "Enter request 2: 1\n",
            "Enter request 3: 2\n",
            "\n",
            "Total Seek Time: 5\n"
          ]
        }
      ]
    },
    {
      "cell_type": "markdown",
      "source": [
        "1.\tStart with the current disk head position.\n",
        "2.\tInitialize the total seek time to 0.\n",
        "3.\tFor each request in the sequence of disk requests:\n",
        "•\tCalculate the seek distance (absolute difference) between the current disk head position and the requested position.\n",
        "•\tAdd the seek distance to the total seek time.\n",
        "•\tMove the disk head to the requested position.\n",
        "4.\tCalculate the average seek time by dividing the total seek time by the number of requests.\n",
        "\n"
      ],
      "metadata": {
        "id": "4Nmfj_G5PNYg"
      }
    },
    {
      "cell_type": "markdown",
      "source": [
        "(B)"
      ],
      "metadata": {
        "id": "tgR_PwJvPa_A"
      }
    },
    {
      "cell_type": "code",
      "source": [
        "def calculate_seek_time(requests, start_position, direction, max_cylinder):\n",
        "    total_seek_time = 0\n",
        "\n",
        "    requests.sort()  # Sort the requests\n",
        "\n",
        "    if direction == \"left\":\n",
        "        left_requests = [r for r in requests if r <= start_position]\n",
        "        right_requests = [r for r in requests if r > start_position]\n",
        "        left_requests.reverse()\n",
        "        head_sequence = left_requests + [0] + right_requests\n",
        "    else:\n",
        "        right_requests = [r for r in requests if r >= start_position]\n",
        "        left_requests = [r for r in requests if r < start_position]\n",
        "        right_requests.sort()\n",
        "        head_sequence = right_requests + [max_cylinder] + left_requests\n",
        "\n",
        "    current_position = start_position\n",
        "    for request in head_sequence:\n",
        "        seek_distance = abs(request - current_position)\n",
        "        total_seek_time += seek_distance\n",
        "        current_position = request\n",
        "\n",
        "    return total_seek_time\n",
        "\n",
        "def main():\n",
        "    n = int(input(\"Enter the number of requests: \"))\n",
        "    requests = []\n",
        "\n",
        "    for i in range(n):\n",
        "        request = int(input(f\"Enter request {i + 1}: \"))\n",
        "        requests.append(request)\n",
        "\n",
        "    start_position = int(input(\"Enter the starting position of the disk head: \"))\n",
        "    direction = input(\"Enter the direction (left or right): \")\n",
        "    max_cylinder = int(input(\"Enter the maximum cylinder number: \"))\n",
        "\n",
        "    seek_time = calculate_seek_time(requests, start_position, direction, max_cylinder)\n",
        "\n",
        "    print(\"\\nTotal Seek Time:\", seek_time)\n",
        "\n",
        "if __name__ == \"__main__\":\n",
        "    main()\n"
      ],
      "metadata": {
        "colab": {
          "base_uri": "https://localhost:8080/",
          "height": 0
        },
        "id": "dhvunRpePcRZ",
        "outputId": "431139e0-d387-4187-fc03-5ab4dc6045a4"
      },
      "execution_count": 7,
      "outputs": [
        {
          "output_type": "stream",
          "name": "stdout",
          "text": [
            "Enter the number of requests: 5\n",
            "Enter request 1: 5\n",
            "Enter request 2: 2\n",
            "Enter request 3: 4\n",
            "Enter request 4: 1\n",
            "Enter request 5: 5\n",
            "Enter the starting position of the disk head: 2\n",
            "Enter the direction (left or right): RIGHT\n",
            "Enter the maximum cylinder number: 5\n",
            "\n",
            "Total Seek Time: 7\n"
          ]
        }
      ]
    },
    {
      "cell_type": "markdown",
      "source": [
        "(C)"
      ],
      "metadata": {
        "id": "9e53i1OaPrDl"
      }
    },
    {
      "cell_type": "code",
      "source": [
        "def calculate_seek_time(requests, start_position, max_cylinder):\n",
        "    total_seek_time = 0\n",
        "\n",
        "    requests.sort()  # Sort the requests\n",
        "\n",
        "    left_requests = [r for r in requests if r <= start_position]\n",
        "    right_requests = [r for r in requests if r > start_position]\n",
        "    right_requests.sort()\n",
        "\n",
        "    head_sequence = right_requests + [max_cylinder] + [0] + left_requests\n",
        "\n",
        "    current_position = start_position\n",
        "    for request in head_sequence:\n",
        "        seek_distance = abs(request - current_position)\n",
        "        total_seek_time += seek_distance\n",
        "        current_position = request\n",
        "\n",
        "    return total_seek_time\n",
        "\n",
        "def main():\n",
        "    n = int(input(\"Enter the number of requests: \"))\n",
        "    requests = []\n",
        "\n",
        "    for i in range(n):\n",
        "        request = int(input(f\"Enter request {i + 1}: \"))\n",
        "        requests.append(request)\n",
        "\n",
        "    start_position = int(input(\"Enter the starting position of the disk head: \"))\n",
        "    max_cylinder = int(input(\"Enter the maximum cylinder number: \"))\n",
        "\n",
        "    seek_time = calculate_seek_time(requests, start_position, max_cylinder)\n",
        "\n",
        "    print(\"\\nTotal Seek Time:\", seek_time)\n",
        "\n",
        "if __name__ == \"__main__\":\n",
        "    main()\n"
      ],
      "metadata": {
        "id": "eaivbHOaPp-c"
      },
      "execution_count": null,
      "outputs": []
    },
    {
      "cell_type": "markdown",
      "source": [
        "1.\tStart with the current disk head position and a list of requests.\n",
        "2.\tSort the list of requests in ascending order.\n",
        "3.\tSeparate the requests into two lists: those that are less than or equal to the current disk head position (left_requests), and those that are greater than the current disk head position (right_requests).\n",
        "4.\tSort the right_requests list in ascending order.\n",
        "5.\tCombine the right_requests list, the maximum cylinder number, and the left_requests list into a single head_sequence.\n",
        "6.\tInitialize the total seek time to 0.\n",
        "7.\tFor each request in the head_sequence:\n",
        "•\tCalculate the seek distance (absolute difference) between the current disk head position and the requested position.\n",
        "•\tAdd the seek distance to the total seek time.\n",
        "•\tUpdate the current disk head position to the requested position.\n",
        "8.\tCalculate the average seek time by dividing the total seek time by the number of requests.\n",
        "\n"
      ],
      "metadata": {
        "id": "IS-7mrnjP-h0"
      }
    },
    {
      "cell_type": "markdown",
      "source": [
        "# Write a program to simulate page replacement algorithms\n",
        "(a) FIFO (b) LRU (c) LFU."
      ],
      "metadata": {
        "id": "XwcmBnSZVhMm"
      }
    },
    {
      "cell_type": "markdown",
      "source": [
        "(A)"
      ],
      "metadata": {
        "id": "bluAwobAVpev"
      }
    },
    {
      "cell_type": "code",
      "source": [
        "def fifo(page_references, num_frames):\n",
        "    page_faults = 0\n",
        "    frames = [-1] * num_frames  # Initialize frames with -1 indicating empty\n",
        "\n",
        "    frame_index = 0  # Index to track the oldest frame in use\n",
        "\n",
        "    for page in page_references:\n",
        "        if page not in frames:\n",
        "            frames[frame_index] = page\n",
        "            frame_index = (frame_index + 1) % num_frames  # Circular increment\n",
        "            page_faults += 1\n",
        "\n",
        "        print(f\"Page reference: {page}\")\n",
        "        print(\"Current frames:\", frames)\n",
        "\n",
        "    return page_faults\n",
        "\n",
        "def main():\n",
        "    num_frames = int(input(\"Enter the number of frames: \"))\n",
        "    page_references = list(map(int, input(\"Enter the page references (comma-separated): \").split(\",\")))\n",
        "\n",
        "    total_page_faults = fifo(page_references, num_frames)\n",
        "    print(\"Total page faults:\", total_page_faults)\n",
        "\n",
        "if __name__ == \"__main__\":\n",
        "    main()\n"
      ],
      "metadata": {
        "id": "f25e_AzUVgBW"
      },
      "execution_count": null,
      "outputs": []
    },
    {
      "cell_type": "markdown",
      "source": [
        "1.\tInitialize the number of frames and the list of page references.\n",
        "2.\tInitialize a list of frames with -1 to indicate empty frames.\n",
        "3.\tInitialize a frame index variable to keep track of the oldest frame.\n",
        "4.\tFor each page reference in the list:\n",
        "•\tIf the current page is not already in the frames:\n",
        "•\tReplace the oldest frame (frames[frame_index]) with the current page.\n",
        "•\tIncrement the frame index circularly (frame_index = (frame_index + 1) % num_frames).\n",
        "•\tIncrement the page fault count.\n",
        "5.\tThe total number of page faults is the count of page references that resulted in a page fault.\n",
        "6.\tEnd of the algorithm.\n",
        "\n"
      ],
      "metadata": {
        "id": "SYY2nYvqVq7P"
      }
    },
    {
      "cell_type": "markdown",
      "source": [
        "(B)"
      ],
      "metadata": {
        "id": "G-HFKyRoVgmC"
      }
    },
    {
      "cell_type": "code",
      "source": [
        "def lru(page_references, num_frames):\n",
        "    page_faults = 0\n",
        "    frames = [-1] * num_frames  # Initialize frames with -1 indicating empty\n",
        "\n",
        "    page_order = []  # Maintain the order of pages in frames\n",
        "\n",
        "    for page in page_references:\n",
        "        if page in frames:\n",
        "            page_order.remove(page)  # Remove the page from the order\n",
        "            page_order.append(page)  # Add the page at the end of the order\n",
        "        else:\n",
        "            if len(page_order) == num_frames:\n",
        "                oldest_page = page_order.pop(0)  # Remove the least recently used page\n",
        "                frames[frames.index(oldest_page)] = page  # Replace with the current page\n",
        "            else:\n",
        "                frames[len(page_order)] = page  # Fill empty frame\n",
        "\n",
        "            page_order.append(page)  # Add the current page to the order\n",
        "            page_faults += 1\n",
        "\n",
        "        print(f\"Page reference: {page}\")\n",
        "        print(\"Current frames:\", frames)\n",
        "\n",
        "    return page_faults\n",
        "\n",
        "def main():\n",
        "    num_frames = int(input(\"Enter the number of frames: \"))\n",
        "    page_references = list(map(int, input(\"Enter the page references (comma-separated): \").split(\",\")))\n",
        "\n",
        "    total_page_faults = lru(page_references, num_frames)\n",
        "    print(\"Total page faults:\", total_page_faults)\n",
        "\n",
        "if __name__ == \"__main__\":\n",
        "    main()\n"
      ],
      "metadata": {
        "id": "kAHTamCzV29h"
      },
      "execution_count": null,
      "outputs": []
    },
    {
      "cell_type": "markdown",
      "source": [
        "1.\tInitialize the number of frames and the list of page references.\n",
        "2.\tInitialize a list of frames with -1 to indicate empty frames.\n",
        "3.\tInitialize an empty list to maintain the order of pages in the frames.\n",
        "4.\tFor each page reference in the list:\n",
        "•\tIf the current page is already in the frames:\n",
        "•\tRemove the current page from the order.\n",
        "•\tAdd the current page to the end of the order to represent its recent use.\n",
        "•\tIf the current page is not in the frames:\n",
        "•\tIf the number of pages in the order is equal to the number of frames:\n",
        "•\tRemove the least recently used page from the order and frames.\n",
        "•\tReplace the least recently used page with the current page in frames.\n",
        "•\tIf there are empty frames:\n",
        "•\tFill an empty frame with the current page.\n",
        "•\tAdd the current page to the end of the order.\n",
        "•\tIncrement the page fault count.\n",
        "5.\tThe total number of page faults is the count of page references that resulted in a page fault.\n",
        "6.\tEnd of the algorithm.\n",
        "\n"
      ],
      "metadata": {
        "id": "bloumDFEWAH8"
      }
    },
    {
      "cell_type": "markdown",
      "source": [
        "(C)"
      ],
      "metadata": {
        "id": "lktFoFs6V_57"
      }
    },
    {
      "cell_type": "code",
      "source": [
        "from collections import defaultdict\n",
        "\n",
        "def lfu(page_references, num_frames):\n",
        "    page_faults = 0\n",
        "    frames = [-1] * num_frames  # Initialize frames with -1 indicating empty\n",
        "\n",
        "    page_frequency = defaultdict(int)  # Maintain frequency count for each page\n",
        "\n",
        "    for page in page_references:\n",
        "        if page in frames:\n",
        "            page_frequency[page] += 1  # Increment frequency count\n",
        "        else:\n",
        "            if len(frames) < num_frames:\n",
        "                frames[len(frames)] = page  # Fill empty frame\n",
        "            else:\n",
        "                least_frequent_page = min(frames, key=lambda p: page_frequency[p])\n",
        "                frames[frames.index(least_frequent_page)] = page  # Replace the least frequent page\n",
        "\n",
        "            page_frequency[page] = 1  # Initialize frequency count\n",
        "            page_faults += 1\n",
        "\n",
        "        print(f\"Page reference: {page}\")\n",
        "        print(\"Current frames:\", frames)\n",
        "\n",
        "    return page_faults\n",
        "\n",
        "def main():\n",
        "    num_frames = int(input(\"Enter the number of frames: \"))\n",
        "    page_references = list(map(int, input(\"Enter the page references (comma-separated): \").split(\",\")))\n",
        "\n",
        "    total_page_faults = lfu(page_references, num_frames)\n",
        "    print(\"Total page faults:\", total_page_faults)\n",
        "\n",
        "if __name__ == \"__main__\":\n",
        "    main()\n"
      ],
      "metadata": {
        "id": "F7LPlccaV_aP"
      },
      "execution_count": null,
      "outputs": []
    },
    {
      "cell_type": "markdown",
      "source": [
        "1.\tInitialize the number of frames and the list of page references.\n",
        "2.\tInitialize a list of frames with -1 to indicate empty frames.\n",
        "3.\tInitialize a dictionary to maintain the frequency count for each page.\n",
        "4.\tFor each page reference in the list:\n",
        "•\tIf the current page is already in the frames:\n",
        "•\tIncrement the frequency count for the current page.\n",
        "•\tIf the current page is not in the frames:\n",
        "•\tIf there are empty frames:\n",
        "•\tFill an empty frame with the current page.\n",
        "•\tIf there are no empty frames:\n",
        "•\tFind the least frequent page in the frames (min by frequency count).\n",
        "•\tReplace the least frequent page with the current page.\n",
        "•\tInitialize the frequency count for the current page as 1.\n",
        "•\tIncrement the page fault count.\n",
        "5.\tThe total number of page faults is the count of page references that resulted in a page fault.\n",
        "6.\tEnd of the algorithm.\n",
        "\n"
      ],
      "metadata": {
        "id": "jNx4LKGqWS9K"
      }
    },
    {
      "cell_type": "markdown",
      "source": [
        "# 8. Write a program to simulate producer-consumer problem using semaphores."
      ],
      "metadata": {
        "id": "UAgAUf1zWdht"
      }
    },
    {
      "cell_type": "code",
      "source": [
        "import threading\n",
        "import time\n",
        "\n",
        "# Define the maximum number of items in the buffer\n",
        "MAX_BUFFER_SIZE = 5\n",
        "\n",
        "# Define the semaphore for controlling buffer access\n",
        "buffer_semaphore = threading.Semaphore()\n",
        "empty_slots = threading.Semaphore(MAX_BUFFER_SIZE)\n",
        "full_slots = threading.Semaphore(0)\n",
        "\n",
        "# Initialize an empty buffer and the number of produced items\n",
        "buffer = []\n",
        "produced_items = 0\n",
        "\n",
        "# Producer function\n",
        "def producer():\n",
        "    global produced_items\n",
        "    while True:\n",
        "        item = f\"Item-{produced_items}\"\n",
        "        empty_slots.acquire()\n",
        "        buffer_semaphore.acquire()\n",
        "\n",
        "        # Produce the item and add it to the buffer\n",
        "        buffer.append(item)\n",
        "        produced_items += 1\n",
        "        print(f\"Produced {item}\")\n",
        "\n",
        "        buffer_semaphore.release()\n",
        "        full_slots.release()\n",
        "        time.sleep(1)  # Simulate production time\n",
        "\n",
        "# Consumer function\n",
        "def consumer():\n",
        "    while True:\n",
        "        full_slots.acquire()\n",
        "        buffer_semaphore.acquire()\n",
        "\n",
        "        # Consume an item from the buffer\n",
        "        item = buffer.pop(0)\n",
        "        print(f\"Consumed {item}\")\n",
        "\n",
        "        buffer_semaphore.release()\n",
        "        empty_slots.release()\n",
        "        time.sleep(2)  # Simulate consumption time\n",
        "\n",
        "# Create producer and consumer threads\n",
        "producer_thread = threading.Thread(target=producer)\n",
        "consumer_thread = threading.Thread(target=consumer)\n",
        "\n",
        "# Start the threads\n",
        "producer_thread.start()\n",
        "consumer_thread.start()\n",
        "\n",
        "# Allow the threads to run for a certain time\n",
        "time.sleep(10)\n",
        "\n",
        "# Terminate the threads\n",
        "producer_thread.join()\n",
        "consumer_thread.join()\n"
      ],
      "metadata": {
        "id": "xOTsUXfwWj6h"
      },
      "execution_count": null,
      "outputs": []
    },
    {
      "cell_type": "markdown",
      "source": [
        "1.\tInitialize the buffer, empty_slots semaphore, full_slots semaphore, and buffer_semaphore semaphore.\n",
        "2.\tCreate the producer thread and the consumer thread.\n",
        "3.\tStart the producer and consumer threads.\n",
        "4.\tIn the producer thread:\n",
        "•\tProduce an item.\n",
        "•\tAcquire the empty_slots semaphore to get permission to add an item to the buffer.\n",
        "•\tAcquire the buffer_semaphore to ensure exclusive access to the buffer.\n",
        "•\tAdd the item to the buffer.\n",
        "•\tRelease the buffer_semaphore to allow other threads to access the buffer.\n",
        "•\tRelease the full_slots semaphore to signal that there is an item available for consumption.\n",
        "•\tRepeat this process.\n",
        "5.\tIn the consumer thread:\n",
        "•\tAcquire the full_slots semaphore to get permission to consume an item from the buffer.\n",
        "•\tAcquire the buffer_semaphore to ensure exclusive access to the buffer.\n",
        "•\tConsume an item from the buffer.\n",
        "•\tRelease the buffer_semaphore to allow other threads to access the buffer.\n",
        "•\tRelease the empty_slots semaphore to signal that a slot is available for production.\n",
        "•\tRepeat this process.\n",
        "6.\tAllow the producer and consumer threads to run for a certain period.\n",
        "7.\tTerminate the producer and consumer threads.\n",
        "8.\tEnd of the algorithm.\n",
        "\n"
      ],
      "metadata": {
        "id": "oaWBBVqOWuv1"
      }
    },
    {
      "cell_type": "markdown",
      "source": [
        "# 9. Write a program to simulate the concept of Dining-Philosophers problem."
      ],
      "metadata": {
        "id": "A9bcQokdW39s"
      }
    },
    {
      "cell_type": "code",
      "source": [
        "import threading\n",
        "import time\n",
        "\n",
        "# Number of philosophers and forks\n",
        "NUM_PHILOSOPHERS = 5\n",
        "\n",
        "# Define locks for each fork\n",
        "forks = [threading.Lock() for _ in range(NUM_PHILOSOPHERS)]\n",
        "\n",
        "# Philosopher function\n",
        "def philosopher(philosopher_id):\n",
        "    left_fork = forks[philosopher_id]\n",
        "    right_fork = forks[(philosopher_id + 1) % NUM_PHILOSOPHERS]\n",
        "\n",
        "    while True:\n",
        "        # Think\n",
        "        print(f\"Philosopher {philosopher_id} is thinking\")\n",
        "        time.sleep(1)\n",
        "\n",
        "        # Pick up forks to eat\n",
        "        with left_fork:\n",
        "            print(f\"Philosopher {philosopher_id} picked up left fork\")\n",
        "            with right_fork:\n",
        "                print(f\"Philosopher {philosopher_id} picked up right fork and is eating\")\n",
        "                time.sleep(2)\n",
        "                print(f\"Philosopher {philosopher_id} is done eating\")\n",
        "\n",
        "        # Put down forks\n",
        "        print(f\"Philosopher {philosopher_id} put down forks\")\n",
        "        time.sleep(1)\n",
        "\n",
        "# Create philosopher threads\n",
        "philosopher_threads = [threading.Thread(target=philosopher, args=(i,)) for i in range(NUM_PHILOSOPHERS)]\n",
        "\n",
        "# Start philosopher threads\n",
        "for thread in philosopher_threads:\n",
        "    thread.start()\n",
        "\n",
        "# Allow threads to run for a certain time\n",
        "time.sleep(10)\n",
        "\n",
        "# Terminate philosopher threads\n",
        "for thread in philosopher_threads:\n",
        "    thread.join()\n"
      ],
      "metadata": {
        "id": "LsQFC0gUW8l0"
      },
      "execution_count": null,
      "outputs": []
    },
    {
      "cell_type": "markdown",
      "source": [
        "1.\tInitialize the number of philosophers (NUM_PHILOSOPHERS) and create an array of locks (one for each fork).\n",
        "2.\tCreate a philosopher function that takes a philosopher's ID as a parameter.\n",
        "•\tInitialize the left fork as forks[philosopher_id] and the right fork as forks[(philosopher_id + 1) % NUM_PHILOSOPHERS].\n",
        "3.\tInside the philosopher function:\n",
        "•\tStart an infinite loop to represent the philosopher's actions.\n",
        "•\tThink for a while.\n",
        "•\tPick up the left fork (acquire its lock).\n",
        "•\tPick up the right fork (acquire its lock).\n",
        "•\tEat for a while.\n",
        "•\tPut down the right fork (release its lock).\n",
        "•\tPut down the left fork (release its lock).\n",
        "4.\tCreate an array of philosopher threads, each calling the philosopher function with their respective IDs.\n",
        "5.\tStart all philosopher threads.\n",
        "6.\tAllow the threads to run for a certain time.\n",
        "7.\tTerminate all philosopher threads.\n",
        "8.\tEnd of the algorithm.\n",
        "\n"
      ],
      "metadata": {
        "id": "E5hHFHEyXEQQ"
      }
    }
  ]
}